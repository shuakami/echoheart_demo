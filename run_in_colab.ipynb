{
  "cells": [
    {
      "cell_type": "markdown",
      "metadata": {
        "id": "61c0_Ls4XUJ0"
      },
      "source": [
        "# 在 Google Colab 中进行 EchoHeart 的 Qwen 微调\n",
        "\n",
        "这个 Notebook 会自动配置环境并启动使用 Qwen 对 EchoHeart 模型进行微调的过程。\n",
        "\n",
        "**步骤：**\n",
        "1. 克隆 GitHub 仓库。\n",
        "2. 安装必要的依赖项。\n",
        "3. 运行训练脚本。"
      ]
    },
    {
      "cell_type": "code",
      "execution_count": null,
      "metadata": {
        "id": "d8soImHTXUJ4"
      },
      "outputs": [],
      "source": [
        "# 1. 克隆仓库\n",
        "!git clone https://github.com/shuakami/echoheart_demo.git\n",
        "%cd echoheart_demo"
      ]
    },
    {
      "cell_type": "code",
      "execution_count": 1,
      "metadata": {
        "id": "0ZzzYcswXUJ5",
        "outputId": "1c1493e3-6fe7-47ee-d169-cfd4e90d1460",
        "colab": {
          "base_uri": "https://localhost:8080/"
        }
      },
      "outputs": [
        {
          "output_type": "stream",
          "name": "stdout",
          "text": [
            "\u001b[31mERROR: Could not open requirements file: [Errno 2] No such file or directory: 'requirements.txt'\u001b[0m\u001b[31m\n",
            "\u001b[0m"
          ]
        }
      ],
      "source": [
        "# 2. 安装依赖\n",
        "!pip install -q -r requirements.txt"
      ]
    },
    {
      "cell_type": "code",
      "execution_count": null,
      "metadata": {
        "id": "OCd-DEGuXUJ6"
      },
      "outputs": [],
      "source": [
        "# 3. 运行训练脚本\n",
        "!python train.py"
      ]
    },
    {
      "cell_type": "markdown",
      "metadata": {
        "id": "-GFKaIkLXUJ6"
      },
      "source": [
        "## 训练完成！\n",
        "\n",
        "微调后的模型保存在 Colab 环境文件系统的 `output/qwen-ft` 目录中。"
      ]
    }
  ],
  "metadata": {
    "kernelspec": {
      "display_name": "Python 3",
      "language": "python",
      "name": "python3"
    },
    "language_info": {
      "codemirror_mode": {
        "name": "ipython",
        "version": 3
      },
      "file_extension": ".py",
      "mimetype": "text/x-python",
      "name": "python",
      "nbconvert_exporter": "python",
      "pygments_lexer": "ipython3",
      "version": "3.10.12"
    },
    "colab": {
      "provenance": [],
      "toc_visible": true
    }
  },
  "nbformat": 4,
  "nbformat_minor": 0
}