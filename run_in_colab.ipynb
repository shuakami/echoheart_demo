{
 "cells": [
  {
   "cell_type": "markdown",
   "metadata": {
    "id": "notebook_intro_markdown"
   },
   "source": [
    "# 在 Google Colab 中进行 EchoHeart 的 Qwen 微调\n",
    "\n",
    "这个 Notebook 会自动配置环境、启动微调 (QLoRA)、运行测试、合并 LoRA 适配器并导出 GGUF 模型。\n",
    "\n",
    "**配置**：您可以通过修改下面的第一个代码单元格中的变量来指定要使用的基础模型和数据集。\n",
    "\n",
    "**步骤：**\n",
    "1. 配置变量、克隆/更新 GitHub 仓库并定义路径。\n",
    "2. 安装必要的依赖项。\n",
    "3. 运行训练脚本 (QLoRA)。\n",
    "4. (可选) 运行测试脚本与微调后的模型(适配器)交互。\n",
    "5. 合并 LoRA 适配器到基础模型。\n",
    "6. (可选) 将合并后的模型转换为 GGUF 格式。"
   ]
  },
  {
   "cell_type": "code",
   "execution_count": null,
   "metadata": {
    "id": "config_and_setup_cell"
   },
   "outputs": [],
   "source": [
    "# 1. 配置、克隆/更新仓库并定义路径\n",
    "import os\n",
    "\n",
    "# ==============================================================\n",
    "#                  主要配置区域 (在此处修改)\n",
    "# ==============================================================\n",
    "\n",
    "# --- A. 核心配置 ---\n",
    "# 指定要微调的基础模型 (Hugging Face 名称或路径)\n",
    "base_model_name: str = \"Qwen/Qwen2.5-1.5B-Instruct\"\n",
    "# 指定数据集文件路径 (相对于仓库根目录)\n",
    "dataset_file: str = \"data/converted_dataset.json\"\n",
    "\n",
    "# --- B. 训练超参数 (按需修改） ---\n",
    "num_train_epochs: int = 2          # 训练轮数\n",
    "learning_rate: float = 2e-4        # 学习率\n",
    "weight_decay: float = 0.01         # 权重衰减\n",
    "max_grad_norm: float = 1.0           # 梯度裁剪范数\n",
    "seed: int = 42                   # 随机种子\n",
    "\n",
    "# --- C. LoRA 特定参数 (按需修改) ---\n",
    "lora_r: int = 16                 # LoRA 秩\n",
    "lora_alpha: int = 32               # LoRA alpha\n",
    "lora_dropout: float = 0.05           # LoRA dropout\n",
    "\n",
    "# --- D. 保存与日志 (按需修改) ---\n",
    "save_steps: int = 25               # 每 N 步保存一次 checkpoint\n",
    "logging_steps: int = 5             # 每 N 步记录一次日志\n",
    "\n",
    "# --- E. 输出目录 (高级，通常自动生成) ---\n",
    "# 默认会根据 base_model_name 自动生成。\n",
    "# 如果要自定义，请将 None 替换为你的路径字符串，例如: \"output/my_custom_run\"\n",
    "custom_output_dir: str | None = None\n",
    "# ------------------------------------------\n",
    "\n",
    "# ==============================================================\n",
    "#          路径计算和环境设置 (通常无需修改)\n",
    "# ==============================================================\n",
    "\n",
    "# --- 确定最终输出目录 ---\n",
    "# 如果用户没有设置 custom_output_dir，则自动生成\n",
    "if custom_output_dir:\n",
    "    adapter_output_dir: str = custom_output_dir\n",
    "    print(f\"[dim]使用自定义适配器输出目录: {adapter_output_dir}[/dim]\")\n",
    "else:\n",
    "    # 否则，自动生成\n",
    "    adapter_output_dir: str = f\"output/{base_model_name.split('/')[-1]}-qlora-ft\"\n",
    "    print(f\"[dim]使用自动生成的适配器输出目录: {adapter_output_dir}[/dim]\")\n",
    "\n",
    "# --- 固定路径和绝对路径计算 ---\n",
    "repo_path: str = '/content/echoheart_demo'\n",
    "# 将相对路径转换为绝对路径\n",
    "adapter_path: str = os.path.join(repo_path, adapter_output_dir)\n",
    "dataset_abs_path: str = os.path.join(repo_path, dataset_file)\n",
    "# 其他路径基于最终的 adapter_path\n",
    "merged_model_output_dir: str = f\"{adapter_output_dir.replace('-qlora-ft', '-merged-ft')}\"\n",
    "merged_model_path: str = os.path.join(repo_path, merged_model_output_dir)\n",
    "gguf_output_file: str = f\"{os.path.basename(merged_model_output_dir)}/gguf-model-f16.gguf\" # GGUF 文件名放在合并后的目录里\n",
    "gguf_output_abs_path: str = os.path.join(repo_path, merged_model_output_dir, os.path.basename(gguf_output_file)) # 确保 GGUF 在合并目录内\n",
    "# -----------------------------\n",
    "\n",
    "print(\"\\n--- 最终配置信息 ---\")\n",
    "print(f\"基础模型: {base_model_name}\")\n",
    "print(f\"数据集文件: {dataset_abs_path}\")\n",
    "print(f\"适配器输出目录: {adapter_path}\")\n",
    "print(f\"学习率: {learning_rate}, Epochs: {num_train_epochs}, LoRA r: {lora_r}\")\n",
    "print(f\"合并模型输出目录: {merged_model_path}\")\n",
    "print(f\"GGUF 输出文件: {gguf_output_abs_path}\")\n",
    "print(\"----------------------\")\n",
    "\n",
    "# 克隆或更新仓库\n",
    "if not os.path.exists(repo_path):\n",
    "  print(f\"\\nCloning repository into {repo_path}...\")\n",
    "  # 使用 --depth 1 加快克隆速度，如果需要完整历史则移除\n",
    "  !git clone --depth 1 https://github.com/shuakami/echoheart_demo.git {repo_path}\n",
    "else:\n",
    "  print(f\"\\nRepository already exists at {repo_path}.\")\n",
    "\n",
    "%cd {repo_path}\n",
    "\n",
    "print(\"\\nPulling latest changes...\")\n",
    "# 使用 --no-edit 避免潜在的编辑器冲突，并确保拉取成功\n",
    "try:\n",
    "    !git pull origin master --no-edit --ff-only\n",
    "except Exception as e:\n",
    "     print(f\"[yellow]Git pull failed: {e}. Continuing with local version.[/yellow]\")\n",
    "\n",
    "\n",
    "# 确保数据集文件存在\n",
    "if not os.path.exists(dataset_abs_path):\n",
    "  print(f\"\\n[bold red]错误：指定的数据集文件不存在: {dataset_abs_path}[/bold red]\")\n",
    "  # 可以在这里引发错误停止执行\n",
    "  raise FileNotFoundError(f\"Dataset file not found: {dataset_abs_path}\")\n",
    "else:\n",
    "  print(f\"\\n数据集文件确认存在: {dataset_abs_path}\")\n",
    "\n",
    "print(\"\\nWorkspace:\")\n",
    "!pwd"
   ]
  },
  {
   "cell_type": "code",
   "execution_count": null,
   "metadata": {
    "id": "install_deps_cell"
   },
   "outputs": [],
   "source": [
    "# 2. 安装依赖\n",
    "print(\"Installing dependencies from requirements.txt...\")\n",
    "!pip install -q -r requirements.txt\n",
    "\n",
    "print(\"Applying dependency fixes...\")\n",
    "!pip install fsspec==2024.12.0"
   ]
  },
  {
   "cell_type": "code",
   "execution_count": null,
   "metadata": {
    "id": "OCd-DEGuXUJ6"
   },
   "outputs": [],
   "source": [
    "# 3. 运行训练脚本 (QLoRA)\n",
    "print(\"Starting QLoRA training...\")\n",
    "\n",
    "train_command = (\n",
    "    f\"python train.py \"\n",
    "    f\"--base_model_name \\\"{base_model_name}\\\" \"\n",
    "    f\"--dataset_file \\\"{dataset_file}\\\" \"\n",
    "    f\"--output_dir \\\"{adapter_path}\\\" \" \n",
    "    f\"--num_train_epochs {num_train_epochs} \"\n",
    "    f\"--learning_rate {learning_rate} \"\n",
    "    f\"--weight_decay {weight_decay} \"\n",
    "    f\"--max_grad_norm {max_grad_norm} \"\n",
    "    f\"--lora_r {lora_r} \"\n",
    "    f\"--lora_alpha {lora_alpha} \"\n",
    "    f\"--lora_dropout {lora_dropout} \"\n",
    "    f\"--save_steps {save_steps} \"\n",
    "    f\"--logging_steps {logging_steps} \"\n",
    "    f\"--seed {seed}\"\n",
    ")\n",
    "\n",
    "print(\"\\n--- Running Training Command ---\")\n",
    "print(train_command)\n",
    "print(\"------------------------------\\n\")\n",
    "\n",
    "# 执行命令\n",
    "!{train_command}"
   ]
  },
  {
   "cell_type": "markdown",
   "metadata": {
    "id": "-GFKaIkLXUJ6"
   },
   "source": [
    "## 训练完成！\n",
    "\n",
    "微调后的模型保存在 Colab 环境文件系统的 `output/qwen-ft` 目录中。"
   ]
  },
  {
   "cell_type": "code",
   "execution_count": null,
   "metadata": {
    "id": "added_test_step"
   },
   "outputs": [],
   "source": [
    "# 4. 运行测试脚本\n",
    "print(\"Starting non-interactive testing session...\")\n",
    "!python test_model.py --base_model_name \"{base_model_name}\" --adapter_path \"{adapter_path}\""
   ]
  },
  {
   "cell_type": "markdown",
   "metadata": {
    "id": "gguf_markdown"
   },
   "source": [
    "## 5. (可选) 转换为 GGUF 格式\n",
    "\n",
    "转换后的文件将尝试保存在 `{gguf_output_file}`。"
   ]
  },
  {
   "cell_type": "code",
   "execution_count": null,
   "metadata": {
    "id": "added_gguf_step"
   },
   "outputs": [],
   "source": [
    "# 运行 LoRA 合并脚本\n",
    "print(\"Starting LoRA merge...\")\n",
    "!python merge_lora.py --base_model_name \"{base_model_name}\" --adapter_path \"{adapter_path}\" --output_path \"{merged_model_path}\"\n",
    "\n",
    "# 转换为 GGUF\n",
    "print(\"Starting GGUF conversion...\")\n",
    "!python convert_to_gguf.py --model_dir \"{merged_model_path}\" --output_file \"{gguf_output_abs_path}\" --out_type f16"
   ]
  },
  {
   "cell_type": "markdown",
   "metadata": {},
   "source": [
    "## (可选) 查看 train.py 的高级参数\n",
    "\n",
    "运行下面的代码单元格可以显示 `train.py` 脚本支持的所有命令行参数及其说明和默认值。\n",
    "如果您想覆盖默认设置（例如调整学习率、LoRA rank、保存步数等），可以在第 3 步运行训练时手动添加这些参数。"
   ]
  },
  {
   "cell_type": "code",
   "execution_count": null,
   "metadata": {},
   "outputs": [],
   "source": [
    "!python train.py --help"
   ]
  }
 ],
 "metadata": {
  "colab": {
   "provenance": [],
   "toc_visible": true
  },
  "kernelspec": {
   "display_name": "Python 3",
   "language": "python",
   "name": "python3"
  },
  "language_info": {
   "codemirror_mode": {
    "name": "ipython",
    "version": 3
   },
   "file_extension": ".py",
   "mimetype": "text/x-python",
   "name": "python",
   "nbconvert_exporter": "python",
   "pygments_lexer": "ipython3",
   "version": "3.10.12"
  }
 },
 "nbformat": 4,
 "nbformat_minor": 4
}
