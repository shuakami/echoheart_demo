{
 "cells": [
  {
   "cell_type": "markdown",
   "metadata": {
    "id": "61c0_Ls4XUJ0"
   },
   "source": [
    "# 在 Google Colab 中进行 EchoHeart 的 Qwen 微调\n",
    "\n",
    "这个 Notebook 会自动配置环境、启动微调 (QLoRA)、运行测试、合并 LoRA 适配器并导出 GGUF 模型。\n",
    "\n",
    "**步骤：**\n",
    "1. 克隆/更新 GitHub 仓库并定义路径。\n",
    "2. 安装必要的依赖项。\n",
    "3. 运行训练脚本 (QLoRA)。\n",
    "4. (可选) 运行测试脚本与微调后的模型(适配器)交互。\n",
    "5. 合并 LoRA 适配器到基础模型。\n",
    "6. (可选) 将合并后的模型转换为 GGUF 格式。"
   ]
  },
  {
   "cell_type": "code",
   "execution_count": null,
   "metadata": {
    "id": "d8soImHTXUJ4"
   },
   "outputs": [],
   "source": [
    "# 1. 克隆/更新仓库并定义路径\n",
    "import os\n",
    "repo_path = '/content/echoheart_demo'\n",
    "\n",
    "# --- 配置变量 (硬编码) ---\n",
    "base_model_name = \"Qwen/Qwen2.5-1.5B-Instruct\" \n",
    "adapter_path = \"/content/echoheart_demo/output/qwen2-1.5b-qlora-ft\" \n",
    "merged_model_path = \"/content/echoheart_demo/output/qwen2-1.5b-merged-ft\" \n",
    "gguf_output_file = f\"{merged_model_path}/gguf-model-f16.gguf\" \n",
    "# ---------------\n",
    "\n",
    "if not os.path.exists(repo_path):\n",
    "  print(f\"Cloning repository into {repo_path}...\")\n",
    "  !git clone https://github.com/shuakami/echoheart_demo.git {repo_path}\n",
    "else:\n",
    "  print(f\"Repository already exists at {repo_path}.\")\n",
    "\n",
    "%cd {repo_path}\n",
    "\n",
    "print(\"Pulling latest changes...\")\n",
    "!git pull origin master\n",
    "\n",
    "!pwd"
   ]
  },
  {
   "cell_type": "code",
   "execution_count": null,
   "metadata": {
    "id": "0ZzzYcswXUJ5"
   },
   "outputs": [],
   "source": [
    "# 2. 安装依赖\n",
    "print(\"Installing dependencies from requirements.txt...\")\n",
    "!pip install -q -r requirements.txt\n",
    "\n",
    "print(\"Applying dependency fixes...\")\n",
    "!pip install fsspec==2024.12.0"
   ]
  },
  {
   "cell_type": "code",
   "execution_count": null,
   "metadata": {
    "id": "OCd-DEGuXUJ6"
   },
   "outputs": [],
   "source": [
    "# 3. 运行训练脚本 (QLoRA)\n",
    "print(\"Starting QLoRA training...\")\n",
    "# 训练脚本会使用 train_config.py 中的配置，输出到 adapter_path\n",
    "!python train.py"
   ]
  },
  {
   "cell_type": "markdown",
   "metadata": {
    "id": "-GFKaIkLXUJ6"
   },
   "source": [
    "## 训练完成！\n",
    "\n",
    f\"QLoRA 适配器保存在 Colab 环境文件系统的 `{adapter_path}` 目录中。\""
   ]
  },
  {
   "cell_type": "code",
   "execution_count": null,
   "metadata": {
    "id": "added_test_step"
   },
   "outputs": [],
   "source": [
    "# 4. (可选) 运行测试脚本 (测试适配器效果)\n",
    "print(\"Starting non-interactive testing session with adapter...\")\n",
    "# 使用硬编码路径调用测试脚本\n",
    f\"!python test_model.py --base_model_name {base_model_name} --adapter_path {adapter_path}\""
   ]
  },
  {
   "cell_type": "markdown",
   "metadata": {
        "id": "merge_lora_markdown"
   },
   "source": [
    "## 5. 合并 LoRA 适配器\n",
    "\n",
    "以下步骤将加载基础模型和训练好的 LoRA 适配器，并将它们合并成一个完整的模型。\n",
    f\"合并后的模型将保存在 `{merged_model_path}`。"
   ]
  },
  {
    "cell_type": "code",
    "execution_count": null,
    "metadata": {
        "id": "merge_lora_step"
    },
    "outputs": [],
    "source": [
    "# 5. 运行 LoRA 合并脚本\n",
    "print(\"Starting LoRA merge...\")\n",
    "# 使用硬编码路径调用合并脚本\n",
    f\"!python merge_lora.py --base_model_name {base_model_name} --adapter_path {adapter_path} --output_path {merged_model_path}\""
   ]
  },
  {
   "cell_type": "markdown",
   "metadata": {
    "id": "gguf_markdown"
   },
   "source": [
    "## 6. (可选) 转换为 GGUF 格式\n",
    "\n",
    "现在我们将使用**合并后**的模型目录进行 GGUF 转换。\n",
    f\"转换后的 GGUF 文件将保存在 `{gguf_output_file}`。"
   ]
  },
  {
   "cell_type": "code",
   "execution_count": null,
   "metadata": {
    "id": "added_gguf_step"
   },
   "outputs": [],
   "source": [
    "# 6. 转换为 GGUF (使用合并后的模型)\n",
    "print(\"Starting GGUF conversion using merged model...\")\n",
    "# 使用硬编码路径调用 GGUF 转换脚本，输入为合并后的模型路径\n",
    f\"!python convert_to_gguf.py --model_dir {merged_model_path} --output_file {gguf_output_file} --out_type f16\""
   ]
  }
 ],
 "metadata": {
  "colab": {
   "provenance": [],
   "toc_visible": true
  },
  "kernelspec": {
   "display_name": "Python 3",
   "language": "python",
   "name": "python3"
  },
  "language_info": {
   "codemirror_mode": {
    "name": "ipython",
    "version": 3
   },
   "file_extension": ".py",
   "mimetype": "text/x-python",
   "name": "python",
   "nbconvert_exporter": "python",
   "pygments_lexer": "ipython3",
   "version": "3.10.12"
  }
 },
 "nbformat": 4,
 "nbformat_minor": 4
}
