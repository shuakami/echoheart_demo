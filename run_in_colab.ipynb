{
 "cells": [
  {
   "cell_type": "markdown",
   "metadata": {
    "id": "61c0_Ls4XUJ0"
   },
   "source": [
    "# 在 Google Colab 中进行 EchoHeart 的 Qwen 微调\n",
    "\n",
    "这个 Notebook 会自动配置环境、启动微调、运行测试并导出 GGUF 模型。\n",
    "\n",
    "**步骤：**\n",
    "1. 克隆/更新 GitHub 仓库。\n",
    "2. 安装必要的依赖项。\n",
    "3. 运行训练脚本。\n",
    "4. (可选) 运行测试脚本与模型交互。\n",
    "5. (可选) 将微调后的模型转换为 GGUF 格式。"
   ]
  },
  {
   "cell_type": "code",
   "execution_count": null,
   "metadata": {
    "id": "d8soImHTXUJ4"
   },
   "outputs": [],
   "source": [
    "# 1. 克隆/更新仓库\n",
    "import os\n",
    "repo_path = '/content/echoheart_demo'\n",
    "if not os.path.exists(repo_path):\n",
    "  print(f\"Cloning repository into {repo_path}...\")\n",
    "  !git clone https://github.com/shuakami/echoheart_demo.git {repo_path}\n",
    "else:\n",
    "  print(f\"Repository already exists at {repo_path}.\")\n",
    "\n",
    "%cd {repo_path}\n",
    "\n",
    "print(\"Pulling latest changes...\")\n",
    "!git pull origin master\n",
    "\n",
    "!pwd"
   ]
  },
  {
   "cell_type": "code",
   "execution_count": null,
   "metadata": {
    "id": "0ZzzYcswXUJ5"
   },
   "outputs": [],
   "source": [
    "# 2. 安装依赖\n",
    "print(\"Installing dependencies from requirements.txt...\")\n",
    "!pip install -q -r requirements.txt\n",
    "\n",
    "print(\"Applying dependency fixes...\")\n",
    "!pip install fsspec==2024.12.0"
   ]
  },
  {
   "cell_type": "code",
   "execution_count": null,
   "metadata": {
    "id": "OCd-DEGuXUJ6"
   },
   "outputs": [],
   "source": [
    "# 3. 运行训练脚本\n",
    "print(\"Starting training...\")\n",
    "!python train.py"
   ]
  },
  {
   "cell_type": "markdown",
   "metadata": {
    "id": "-GFKaIkLXUJ6"
   },
   "source": [
    "## 训练完成！\n",
    "\n",
    "微调后的模型保存在 Colab 环境文件系统的 `output/qwen-ft` 目录中。"
   ]
  },
  {
   "cell_type": "code",
   "execution_count": null,
   "metadata": {
    "id": "added_test_step"
   },
   "outputs": [],
   "source": [
    "# 4. (可选) 运行测试脚本\n",
    "print(\"Starting non-interactive testing session...\")\n",
    "!python test_model.py --model_path /content/echoheart_demo/output/qwen-ft "
   ]
  },
  {
   "cell_type": "markdown",
   "metadata": {
    "id": "gguf_markdown"
   },
   "source": [
    "## 5. (可选) 转换为 GGUF 格式\n",
    "\n",
    "以下单元格会将保存在 `output/qwen-ft` 的 Hugging Face 模型转换为 GGUF 格式，默认使用 FP16 (无量化)。\n",
    "转换后的文件将保存在 `output/qwen-ft/gguf-model-f16.gguf`。\n",
    "您可以修改 `--out_type` 参数进行量化 (例如 `q4_0`, `q4_k_m`, `q8_0` 等，请参考 llama.cpp 文档)。"
   ]
  },
  {
   "cell_type": "code",
   "execution_count": null,
   "metadata": {
    "id": "added_gguf_step"
   },
   "outputs": [],
   "source": [
    "# 5. 转换为 GGUF\n",
    "print(\"Starting GGUF conversion...\")\n",
    "!python convert_to_gguf.py --model_dir output/qwen-ft --output_file output/qwen-ft/gguf-model-f16.gguf --out_type f16"
   ]
  }
 ],
 "metadata": {
  "colab": {
   "provenance": [],
   "toc_visible": true
  },
  "kernelspec": {
   "display_name": "Python 3",
   "language": "python",
   "name": "python3"
  },
  "language_info": {
   "codemirror_mode": {
    "name": "ipython",
    "version": 3
   },
   "file_extension": ".py",
   "mimetype": "text/x-python",
   "name": "python",
   "nbconvert_exporter": "python",
   "pygments_lexer": "ipython3",
   "version": "3.10.12"
  }
 },
 "nbformat": 4,
 "nbformat_minor": 4
}
